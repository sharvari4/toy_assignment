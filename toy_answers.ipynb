{
  "cells": [
    {
      "cell_type": "markdown",
      "metadata": {
        "id": "KZe_4PK0HOy5"
      },
      "source": [
        "# github homework\n",
        "\n",
        "\n",
        "Run the below function ‘intro’ by passing your first name, last name and NYU net ID as arguments. (successful run should print ‘Welcome \"first name\" \"last name\". Your NYU id is \"NYU net ID\"’ as output).\n",
        "\n",
        "\n",
        "Create a new branch in your homework repository. (Branches are important if you need to have a separate workflow in the project or if multiple people are working collaboratively on the same repo.)\n",
        "\n",
        "\n",
        "Upload this file (with printed output) in the new branch created. Write ‘add HW with output’ as commit message.\n",
        "\n",
        "\n",
        "Create a pull request to merge the new branch with the main branch. Review the changes and merge the pull request."
      ]
    },
    {
      "cell_type": "code",
      "execution_count": 3,
      "metadata": {
        "id": "4zXU1X3HHOy9"
      },
      "outputs": [],
      "source": [
        "def intro(first_name, last_name, netID):\n",
        "    \n",
        "    print('Welcome to PUI 2022', first_name, last_name, \". Your NYU id is\", netID)"
      ]
    },
    {
      "cell_type": "code",
      "execution_count": 4,
      "metadata": {
        "colab": {
          "base_uri": "https://localhost:8080/"
        },
        "id": "lkSEHZpDHOy-",
        "outputId": "29d5015c-4037-4d7a-f56c-f74d91291c5b"
      },
      "outputs": [
        {
          "output_type": "stream",
          "name": "stdout",
          "text": [
            "Welcome to PUI 2022 Sharvari Deshpande . Your NYU id is sd5270\n"
          ]
        }
      ],
      "source": [
        "## pass your arguments in the function, remember to pass them as strings\n",
        "intro(\"Sharvari\", \"Deshpande\", \"sd5270\")"
      ]
    }
  ],
  "metadata": {
    "kernelspec": {
      "display_name": "Python 3",
      "language": "python",
      "name": "python3"
    },
    "language_info": {
      "codemirror_mode": {
        "name": "ipython",
        "version": 3
      },
      "file_extension": ".py",
      "mimetype": "text/x-python",
      "name": "python",
      "nbconvert_exporter": "python",
      "pygments_lexer": "ipython3",
      "version": "3.7.6"
    },
    "colab": {
      "provenance": []
    }
  },
  "nbformat": 4,
  "nbformat_minor": 0
}